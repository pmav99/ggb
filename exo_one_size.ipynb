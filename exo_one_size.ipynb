{
 "cells": [
  {
   "cell_type": "code",
   "execution_count": 83,
   "metadata": {},
   "outputs": [
    {
     "name": "stdout",
     "output_type": "stream",
     "text": [
      "The autoreload extension is already loaded. To reload it, use:\n",
      "  %reload_ext autoreload\n"
     ]
    }
   ],
   "source": [
    "%load_ext autoreload\n",
    "%autoreload 2\n",
    "import pandas as pd\n",
    "import numpy as np\n",
    "import matplotlib.pyplot as plt\n",
    "from matplotlib import pylab\n",
    "\n",
    "from docx import Document\n",
    "from docx.shared import Pt\n",
    "import traceback\n",
    "from docx.oxml.shared import OxmlElement, qn\n",
    "\n",
    "from matplotlib.ticker import (MultipleLocator, FormatStrFormatter,\n",
    "                               AutoMinorLocator)\n",
    "import seaborn as sns\n",
    "pandas.set_option('display.float_format', lambda x: '%.1f' % x)\n",
    "%matplotlib inline"
   ]
  },
  {
   "cell_type": "code",
   "execution_count": 84,
   "metadata": {
    "collapsed": true
   },
   "outputs": [],
   "source": [
    "df = pandas.read_csv(\"exo_one/exo_one.csv\")"
   ]
  },
  {
   "cell_type": "markdown",
   "metadata": {},
   "source": [
    "## 1. Format data"
   ]
  },
  {
   "cell_type": "code",
   "execution_count": 85,
   "metadata": {},
   "outputs": [
    {
     "data": {
      "text/html": [
       "<div>\n",
       "<style>\n",
       "    .dataframe thead tr:only-child th {\n",
       "        text-align: right;\n",
       "    }\n",
       "\n",
       "    .dataframe thead th {\n",
       "        text-align: left;\n",
       "    }\n",
       "\n",
       "    .dataframe tbody tr th {\n",
       "        vertical-align: top;\n",
       "    }\n",
       "</style>\n",
       "<table border=\"1\" class=\"dataframe\">\n",
       "  <thead>\n",
       "    <tr style=\"text-align: right;\">\n",
       "      <th></th>\n",
       "      <th>ΚΑΔ Επένδυσης</th>\n",
       "      <th>Περιφέρεια Υλοποίησης</th>\n",
       "      <th>Μέγεθος Επιχείρησης</th>\n",
       "      <th>Συνολικός Προϋπολογισμός</th>\n",
       "      <th>Επιχορηγούμενος Προϋπολογισμός</th>\n",
       "      <th>Δημόσια Δαπάνη Ολοκλήρωσης</th>\n",
       "      <th>two_digit_sectors</th>\n",
       "    </tr>\n",
       "  </thead>\n",
       "  <tbody>\n",
       "    <tr>\n",
       "      <th>0</th>\n",
       "      <td>23.70.12</td>\n",
       "      <td>ΘΕΣΣΑΛΙΑ</td>\n",
       "      <td>Μικρές και Πολύ Μικρές</td>\n",
       "      <td>50748.1</td>\n",
       "      <td>47450.0</td>\n",
       "      <td>21352.5</td>\n",
       "      <td>23</td>\n",
       "    </tr>\n",
       "    <tr>\n",
       "      <th>1</th>\n",
       "      <td>27.12.31</td>\n",
       "      <td>ΘΕΣΣΑΛΙΑ</td>\n",
       "      <td>Μικρές και Πολύ Μικρές</td>\n",
       "      <td>153000.0</td>\n",
       "      <td>153000.0</td>\n",
       "      <td>68850.0</td>\n",
       "      <td>27</td>\n",
       "    </tr>\n",
       "  </tbody>\n",
       "</table>\n",
       "</div>"
      ],
      "text/plain": [
       "  ΚΑΔ Επένδυσης Περιφέρεια Υλοποίησης     Μέγεθος Επιχείρησης  \\\n",
       "0      23.70.12              ΘΕΣΣΑΛΙΑ  Μικρές και Πολύ Μικρές   \n",
       "1      27.12.31              ΘΕΣΣΑΛΙΑ  Μικρές και Πολύ Μικρές   \n",
       "\n",
       "   Συνολικός Προϋπολογισμός  Επιχορηγούμενος Προϋπολογισμός  \\\n",
       "0                   50748.1                         47450.0   \n",
       "1                  153000.0                        153000.0   \n",
       "\n",
       "   Δημόσια Δαπάνη Ολοκλήρωσης  two_digit_sectors  \n",
       "0                     21352.5                 23  \n",
       "1                     68850.0                 27  "
      ]
     },
     "execution_count": 85,
     "metadata": {},
     "output_type": "execute_result"
    }
   ],
   "source": [
    "df.drop(['Κωδικός Πρότασης', 'Εταίρος ΕΦΔ', 'Επωνυμία Επιχείρησης', 'Περιγραφή ΚΑΔ Επένδυσης'], axis=1, inplace=True)\n",
    "df.loc[df['ΠΕΠ'].str.contains('Μεσαίες'), 'ΠΕΠ'] = \"Μεσαίες\"\n",
    "df.loc[df['ΠΕΠ'].str.contains('Μεγάλες'), 'ΠΕΠ'] = \"Μεγάλες\"\n",
    "df.loc[df['ΠΕΠ'].str.contains('Μικρές'), 'ΠΕΠ'] = \"Μικρές και Πολύ Μικρές\"\n",
    "df.rename(columns={'ΠΕΠ': 'Μέγεθος Επιχείρησης'}, inplace=True)\n",
    "# set as dtype int to use in dict range\n",
    "df['two_digit_sectors'] = df['ΚΑΔ Επένδυσης'].str[0:2].astype(int)\n",
    "# df.dtypes\n",
    "df.head(2)\n",
    "# df['ΚΑΔ Επένδυσης'].sort_values().unique()"
   ]
  },
  {
   "cell_type": "code",
   "execution_count": 86,
   "metadata": {
    "collapsed": true
   },
   "outputs": [],
   "source": [
    "sectors={}\n",
    "for i in range(10, 34):  # range(a,b) gives [a,b)\n",
    "    sectors[i] = 'Μεταποίηση'\n",
    "for i in range(41, 44):\n",
    "    sectors[i] = \"Κατασκευές\"\n",
    "for i in range(45, 48):\n",
    "    sectors[i] = \"Εμπόριο\"\n",
    "for i in range(58, 64):\n",
    "    sectors[i] = \"ΤΠΕ\"\n",
    "for i in range(70, 75):\n",
    "    sectors[i] = \"Επαγ/Επιστ. Δρ.\"\n",
    "sectors[86] = \"Υγεία\"\n",
    "df['Κλάδος'] = df[\"two_digit_sectors\"].map(sectors)\n",
    "# df['Κλάδος'].head()"
   ]
  },
  {
   "cell_type": "code",
   "execution_count": 87,
   "metadata": {
    "collapsed": true
   },
   "outputs": [],
   "source": [
    "#! drop after mapping dictionary and before grouping\n",
    "df.drop(['two_digit_sectors'], axis=1, inplace=True)"
   ]
  },
  {
   "cell_type": "code",
   "execution_count": null,
   "metadata": {
    "collapsed": true
   },
   "outputs": [],
   "source": [
    "sector_totals = df.groupby(['Κλάδος'], sort=True).sum()\n",
    "# sector_totals"
   ]
  },
  {
   "cell_type": "markdown",
   "metadata": {},
   "source": [
    "# Create SIZE DF"
   ]
  },
  {
   "cell_type": "markdown",
   "metadata": {},
   "source": [
    "### 2.0 Group by size totals"
   ]
  },
  {
   "cell_type": "code",
   "execution_count": 102,
   "metadata": {},
   "outputs": [
    {
     "data": {
      "text/html": [
       "<div>\n",
       "<style>\n",
       "    .dataframe thead tr:only-child th {\n",
       "        text-align: right;\n",
       "    }\n",
       "\n",
       "    .dataframe thead th {\n",
       "        text-align: left;\n",
       "    }\n",
       "\n",
       "    .dataframe tbody tr th {\n",
       "        vertical-align: top;\n",
       "    }\n",
       "</style>\n",
       "<table border=\"1\" class=\"dataframe\">\n",
       "  <thead>\n",
       "    <tr style=\"text-align: right;\">\n",
       "      <th></th>\n",
       "      <th>Μέγεθος Επιχείρησης</th>\n",
       "      <th>Συνολικός Προϋπολογισμός</th>\n",
       "      <th>Επιχορηγούμενος Προϋπολογισμός</th>\n",
       "      <th>Δημόσια Δαπάνη Ολοκλήρωσης</th>\n",
       "      <th>Έργα</th>\n",
       "    </tr>\n",
       "  </thead>\n",
       "  <tbody>\n",
       "    <tr>\n",
       "      <th>0</th>\n",
       "      <td>Μικρές και Πολύ Μικρές</td>\n",
       "      <td>37534707.8</td>\n",
       "      <td>36644001.4</td>\n",
       "      <td>16732041.8</td>\n",
       "      <td>362</td>\n",
       "    </tr>\n",
       "    <tr>\n",
       "      <th>1</th>\n",
       "      <td>Μεσαίες</td>\n",
       "      <td>16394101.5</td>\n",
       "      <td>16075613.0</td>\n",
       "      <td>7286229.2</td>\n",
       "      <td>117</td>\n",
       "    </tr>\n",
       "    <tr>\n",
       "      <th>2</th>\n",
       "      <td>Μεγάλες</td>\n",
       "      <td>1343610.9</td>\n",
       "      <td>1332696.5</td>\n",
       "      <td>532853.9</td>\n",
       "      <td>7</td>\n",
       "    </tr>\n",
       "  </tbody>\n",
       "</table>\n",
       "</div>"
      ],
      "text/plain": [
       "      Μέγεθος Επιχείρησης  Συνολικός Προϋπολογισμός  \\\n",
       "0  Μικρές και Πολύ Μικρές                37534707.8   \n",
       "1                 Μεσαίες                16394101.5   \n",
       "2                 Μεγάλες                 1343610.9   \n",
       "\n",
       "   Επιχορηγούμενος Προϋπολογισμός  Δημόσια Δαπάνη Ολοκλήρωσης  Έργα  \n",
       "0                      36644001.4                  16732041.8   362  \n",
       "1                      16075613.0                   7286229.2   117  \n",
       "2                       1332696.5                    532853.9     7  "
      ]
     },
     "execution_count": 102,
     "metadata": {},
     "output_type": "execute_result"
    }
   ],
   "source": [
    "size_totals = df.groupby(['Μέγεθος Επιχείρησης'], sort=False).sum().reset_index()\n",
    "# size_totals\n",
    "size_projects = df.groupby(['Μέγεθος Επιχείρησης'], sort=True).size()\n",
    "size_projects = pd.DataFrame(size_projects, columns=['Έργα']).reset_index()\n",
    "# size_projects\n",
    "size_df = pd.merge(size_totals, size_projects)\n",
    "size_df"
   ]
  },
  {
   "cell_type": "markdown",
   "metadata": {},
   "source": [
    "## 2.1 Size percentages"
   ]
  },
  {
   "cell_type": "code",
   "execution_count": 98,
   "metadata": {},
   "outputs": [
    {
     "data": {
      "text/html": [
       "<div>\n",
       "<style>\n",
       "    .dataframe thead tr:only-child th {\n",
       "        text-align: right;\n",
       "    }\n",
       "\n",
       "    .dataframe thead th {\n",
       "        text-align: left;\n",
       "    }\n",
       "\n",
       "    .dataframe tbody tr th {\n",
       "        vertical-align: top;\n",
       "    }\n",
       "</style>\n",
       "<table border=\"1\" class=\"dataframe\">\n",
       "  <thead>\n",
       "    <tr style=\"text-align: right;\">\n",
       "      <th></th>\n",
       "      <th>Μέγεθος Επιχείρησης</th>\n",
       "      <th>Συνολικός Προϋπολογισμός, %</th>\n",
       "      <th>Επιχορηγούμενος Προϋπολογισμός, %</th>\n",
       "      <th>Δημόσια Δαπάνη Ολοκλήρωσης, %</th>\n",
       "      <th>Έργα, %</th>\n",
       "    </tr>\n",
       "  </thead>\n",
       "  <tbody>\n",
       "    <tr>\n",
       "      <th>0</th>\n",
       "      <td>Μικρές και Πολύ Μικρές</td>\n",
       "      <td>67.9</td>\n",
       "      <td>67.8</td>\n",
       "      <td>68.2</td>\n",
       "      <td>74.5</td>\n",
       "    </tr>\n",
       "    <tr>\n",
       "      <th>1</th>\n",
       "      <td>Μεσαίες</td>\n",
       "      <td>29.7</td>\n",
       "      <td>29.7</td>\n",
       "      <td>29.7</td>\n",
       "      <td>24.1</td>\n",
       "    </tr>\n",
       "    <tr>\n",
       "      <th>2</th>\n",
       "      <td>Μεγάλες</td>\n",
       "      <td>2.4</td>\n",
       "      <td>2.5</td>\n",
       "      <td>2.2</td>\n",
       "      <td>1.4</td>\n",
       "    </tr>\n",
       "  </tbody>\n",
       "</table>\n",
       "</div>"
      ],
      "text/plain": [
       "      Μέγεθος Επιχείρησης  Συνολικός Προϋπολογισμός, %  \\\n",
       "0  Μικρές και Πολύ Μικρές                         67.9   \n",
       "1                 Μεσαίες                         29.7   \n",
       "2                 Μεγάλες                          2.4   \n",
       "\n",
       "   Επιχορηγούμενος Προϋπολογισμός, %  Δημόσια Δαπάνη Ολοκλήρωσης, %  Έργα, %  \n",
       "0                               67.8                           68.2     74.5  \n",
       "1                               29.7                           29.7     24.1  \n",
       "2                                2.5                            2.2      1.4  "
      ]
     },
     "execution_count": 98,
     "metadata": {},
     "output_type": "execute_result"
    }
   ],
   "source": [
    "size_percent_df = size_df.set_index('Μέγεθος Επιχείρησης').transform(lambda x: x*100/x.sum())\n",
    "size_percent_df = size_percent_df.add_suffix(\", %%\")\n",
    "size_percent_df = size_percent_df.applymap(\"{0:.2f}\".format).astype(float)\n",
    "## for single columns example format\n",
    "# df['cost'] = df['cost'].map('${:,.2f}'.format)\n",
    "size_percent_df = size_percent_df.reset_index()\n"
   ]
  },
  {
   "cell_type": "code",
   "execution_count": 123,
   "metadata": {
    "collapsed": true
   },
   "outputs": [],
   "source": [
    "size_percent_df['Δημόσια Δαπάνη, % πρ/μού'] = size_df['Δημόσια Δαπάνη Ολοκλήρωσης']/size_df['Συνολικός Προϋπολογισμός']*100"
   ]
  },
  {
   "cell_type": "code",
   "execution_count": 124,
   "metadata": {},
   "outputs": [
    {
     "data": {
      "text/html": [
       "<div>\n",
       "<style>\n",
       "    .dataframe thead tr:only-child th {\n",
       "        text-align: right;\n",
       "    }\n",
       "\n",
       "    .dataframe thead th {\n",
       "        text-align: left;\n",
       "    }\n",
       "\n",
       "    .dataframe tbody tr th {\n",
       "        vertical-align: top;\n",
       "    }\n",
       "</style>\n",
       "<table border=\"1\" class=\"dataframe\">\n",
       "  <thead>\n",
       "    <tr style=\"text-align: right;\">\n",
       "      <th></th>\n",
       "      <th>Μέγεθος Επιχείρησης</th>\n",
       "      <th>Συνολικός Προϋπολογισμός, %</th>\n",
       "      <th>Επιχορηγούμενος Προϋπολογισμός, %</th>\n",
       "      <th>Δημόσια Δαπάνη Ολοκλήρωσης, %</th>\n",
       "      <th>Έργα, %</th>\n",
       "      <th>Δημόσια Δαπάνη, % πρ/μού</th>\n",
       "    </tr>\n",
       "  </thead>\n",
       "  <tbody>\n",
       "    <tr>\n",
       "      <th>0</th>\n",
       "      <td>Μικρές και Πολύ Μικρές</td>\n",
       "      <td>67.9</td>\n",
       "      <td>67.8</td>\n",
       "      <td>68.2</td>\n",
       "      <td>74.5</td>\n",
       "      <td>44.6</td>\n",
       "    </tr>\n",
       "    <tr>\n",
       "      <th>1</th>\n",
       "      <td>Μεσαίες</td>\n",
       "      <td>29.7</td>\n",
       "      <td>29.7</td>\n",
       "      <td>29.7</td>\n",
       "      <td>24.1</td>\n",
       "      <td>44.4</td>\n",
       "    </tr>\n",
       "    <tr>\n",
       "      <th>2</th>\n",
       "      <td>Μεγάλες</td>\n",
       "      <td>2.4</td>\n",
       "      <td>2.5</td>\n",
       "      <td>2.2</td>\n",
       "      <td>1.4</td>\n",
       "      <td>39.7</td>\n",
       "    </tr>\n",
       "  </tbody>\n",
       "</table>\n",
       "</div>"
      ],
      "text/plain": [
       "      Μέγεθος Επιχείρησης  Συνολικός Προϋπολογισμός, %  \\\n",
       "0  Μικρές και Πολύ Μικρές                         67.9   \n",
       "1                 Μεσαίες                         29.7   \n",
       "2                 Μεγάλες                          2.4   \n",
       "\n",
       "   Επιχορηγούμενος Προϋπολογισμός, %  Δημόσια Δαπάνη Ολοκλήρωσης, %  Έργα, %  \\\n",
       "0                               67.8                           68.2     74.5   \n",
       "1                               29.7                           29.7     24.1   \n",
       "2                                2.5                            2.2      1.4   \n",
       "\n",
       "   Δημόσια Δαπάνη, % πρ/μού  \n",
       "0                      44.6  \n",
       "1                      44.4  \n",
       "2                      39.7  "
      ]
     },
     "execution_count": 124,
     "metadata": {},
     "output_type": "execute_result"
    }
   ],
   "source": [
    "size_percent_df"
   ]
  },
  {
   "cell_type": "markdown",
   "metadata": {},
   "source": [
    "## 2.2 Size means"
   ]
  },
  {
   "cell_type": "code",
   "execution_count": 125,
   "metadata": {},
   "outputs": [
    {
     "data": {
      "text/html": [
       "<div>\n",
       "<style>\n",
       "    .dataframe thead tr:only-child th {\n",
       "        text-align: right;\n",
       "    }\n",
       "\n",
       "    .dataframe thead th {\n",
       "        text-align: left;\n",
       "    }\n",
       "\n",
       "    .dataframe tbody tr th {\n",
       "        vertical-align: top;\n",
       "    }\n",
       "</style>\n",
       "<table border=\"1\" class=\"dataframe\">\n",
       "  <thead>\n",
       "    <tr style=\"text-align: right;\">\n",
       "      <th></th>\n",
       "      <th>Μέγεθος Επιχείρησης</th>\n",
       "      <th>Συνολικός Προϋπολογισμός, μ.ο. χιλ. €</th>\n",
       "      <th>Επιχορηγούμενος Προϋπολογισμός, μ.ο. χιλ. €</th>\n",
       "      <th>Δημόσια Δαπάνη Ολοκλήρωσης, μ.ο. χιλ. €</th>\n",
       "    </tr>\n",
       "  </thead>\n",
       "  <tbody>\n",
       "    <tr>\n",
       "      <th>0</th>\n",
       "      <td>Μεγάλες</td>\n",
       "      <td>191.9</td>\n",
       "      <td>190.4</td>\n",
       "      <td>76.1</td>\n",
       "    </tr>\n",
       "    <tr>\n",
       "      <th>1</th>\n",
       "      <td>Μεσαίες</td>\n",
       "      <td>140.1</td>\n",
       "      <td>137.4</td>\n",
       "      <td>62.3</td>\n",
       "    </tr>\n",
       "    <tr>\n",
       "      <th>2</th>\n",
       "      <td>Μικρές και Πολύ Μικρές</td>\n",
       "      <td>103.7</td>\n",
       "      <td>101.2</td>\n",
       "      <td>46.2</td>\n",
       "    </tr>\n",
       "  </tbody>\n",
       "</table>\n",
       "</div>"
      ],
      "text/plain": [
       "      Μέγεθος Επιχείρησης  Συνολικός Προϋπολογισμός, μ.ο. χιλ. €  \\\n",
       "0                 Μεγάλες                                  191.9   \n",
       "1                 Μεσαίες                                  140.1   \n",
       "2  Μικρές και Πολύ Μικρές                                  103.7   \n",
       "\n",
       "   Επιχορηγούμενος Προϋπολογισμός, μ.ο. χιλ. €  \\\n",
       "0                                        190.4   \n",
       "1                                        137.4   \n",
       "2                                        101.2   \n",
       "\n",
       "   Δημόσια Δαπάνη Ολοκλήρωσης, μ.ο. χιλ. €  \n",
       "0                                     76.1  \n",
       "1                                     62.3  \n",
       "2                                     46.2  "
      ]
     },
     "execution_count": 125,
     "metadata": {},
     "output_type": "execute_result"
    }
   ],
   "source": [
    "size_mean_df = df.groupby(['Μέγεθος Επιχείρησης']).mean()\n",
    "size_mean_df = size_mean_df.add_suffix(\", μ.ο. χιλ. €\")\n",
    "size_mean_df = size_mean_df.transform(lambda x: x/1000).applymap(\"{0:.2f}\".format).astype(float)\n",
    "size_mean_df = size_mean_df.reset_index()\n",
    "size_mean_df"
   ]
  },
  {
   "cell_type": "markdown",
   "metadata": {},
   "source": [
    "## 2.3 Merge totals, percentages, means"
   ]
  },
  {
   "cell_type": "code",
   "execution_count": 126,
   "metadata": {},
   "outputs": [],
   "source": [
    "size_totals_perc_df = pandas.merge(size_df, size_percent_df)"
   ]
  },
  {
   "cell_type": "code",
   "execution_count": 127,
   "metadata": {},
   "outputs": [
    {
     "data": {
      "text/html": [
       "<div>\n",
       "<style>\n",
       "    .dataframe thead tr:only-child th {\n",
       "        text-align: right;\n",
       "    }\n",
       "\n",
       "    .dataframe thead th {\n",
       "        text-align: left;\n",
       "    }\n",
       "\n",
       "    .dataframe tbody tr th {\n",
       "        vertical-align: top;\n",
       "    }\n",
       "</style>\n",
       "<table border=\"1\" class=\"dataframe\">\n",
       "  <thead>\n",
       "    <tr style=\"text-align: right;\">\n",
       "      <th></th>\n",
       "      <th>Μέγεθος Επιχείρησης</th>\n",
       "      <th>Συνολικός Προϋπολογισμός, εκ. €</th>\n",
       "      <th>Επιχορηγούμενος Προϋπολογισμός, εκ. €</th>\n",
       "      <th>Δημόσια Δαπάνη Ολοκλήρωσης, εκ. €</th>\n",
       "      <th>Έργα</th>\n",
       "      <th>Συνολικός Προϋπολογισμός, %</th>\n",
       "      <th>Επιχορηγούμενος Προϋπολογισμός, %</th>\n",
       "      <th>Δημόσια Δαπάνη Ολοκλήρωσης, %</th>\n",
       "      <th>Έργα, %</th>\n",
       "      <th>Δημόσια Δαπάνη, % πρ/μού</th>\n",
       "    </tr>\n",
       "  </thead>\n",
       "  <tbody>\n",
       "    <tr>\n",
       "      <th>0</th>\n",
       "      <td>Μικρές και Πολύ Μικρές</td>\n",
       "      <td>37.53</td>\n",
       "      <td>36.64</td>\n",
       "      <td>16.73</td>\n",
       "      <td>362</td>\n",
       "      <td>67.9</td>\n",
       "      <td>67.8</td>\n",
       "      <td>68.2</td>\n",
       "      <td>74.5</td>\n",
       "      <td>44.6</td>\n",
       "    </tr>\n",
       "    <tr>\n",
       "      <th>1</th>\n",
       "      <td>Μεσαίες</td>\n",
       "      <td>16.39</td>\n",
       "      <td>16.08</td>\n",
       "      <td>7.29</td>\n",
       "      <td>117</td>\n",
       "      <td>29.7</td>\n",
       "      <td>29.7</td>\n",
       "      <td>29.7</td>\n",
       "      <td>24.1</td>\n",
       "      <td>44.4</td>\n",
       "    </tr>\n",
       "    <tr>\n",
       "      <th>2</th>\n",
       "      <td>Μεγάλες</td>\n",
       "      <td>1.34</td>\n",
       "      <td>1.33</td>\n",
       "      <td>0.53</td>\n",
       "      <td>7</td>\n",
       "      <td>2.4</td>\n",
       "      <td>2.5</td>\n",
       "      <td>2.2</td>\n",
       "      <td>1.4</td>\n",
       "      <td>39.7</td>\n",
       "    </tr>\n",
       "  </tbody>\n",
       "</table>\n",
       "</div>"
      ],
      "text/plain": [
       "      Μέγεθος Επιχείρησης Συνολικός Προϋπολογισμός, εκ. €  \\\n",
       "0  Μικρές και Πολύ Μικρές                           37.53   \n",
       "1                 Μεσαίες                           16.39   \n",
       "2                 Μεγάλες                            1.34   \n",
       "\n",
       "  Επιχορηγούμενος Προϋπολογισμός, εκ. € Δημόσια Δαπάνη Ολοκλήρωσης, εκ. €  \\\n",
       "0                                 36.64                             16.73   \n",
       "1                                 16.08                              7.29   \n",
       "2                                  1.33                              0.53   \n",
       "\n",
       "   Έργα  Συνολικός Προϋπολογισμός, %  Επιχορηγούμενος Προϋπολογισμός, %  \\\n",
       "0   362                         67.9                               67.8   \n",
       "1   117                         29.7                               29.7   \n",
       "2     7                          2.4                                2.5   \n",
       "\n",
       "   Δημόσια Δαπάνη Ολοκλήρωσης, %  Έργα, %  Δημόσια Δαπάνη, % πρ/μού  \n",
       "0                           68.2     74.5                      44.6  \n",
       "1                           29.7     24.1                      44.4  \n",
       "2                            2.2      1.4                      39.7  "
      ]
     },
     "execution_count": 127,
     "metadata": {},
     "output_type": "execute_result"
    }
   ],
   "source": [
    "for col in size_totals_perc_df.columns[[1, 2, 3]]:\n",
    "    size_totals_perc_df[col] = size_totals_perc_df[col]/1000000 # Συνολικοί Προϋπολογισμοί, σε εκατ. ευρω\n",
    "    size_totals_perc_df[col] = size_totals_perc_df[col].map('{:,.2f}'.format)\n",
    "    size_totals_perc_df.rename(columns={''.join([col]): ''.join([col]) + ', εκ. €'}, inplace=True)  \n",
    "\n",
    "size_totals_perc_df"
   ]
  },
  {
   "cell_type": "code",
   "execution_count": 128,
   "metadata": {
    "collapsed": true
   },
   "outputs": [],
   "source": [
    "size_all_df = pandas.merge(size_totals_perc_df, size_mean_df)\n",
    "# list(size_all_df.columns)\n",
    "size_all_df = size_all_df[[\n",
    " 'Μέγεθος Επιχείρησης',\n",
    " 'Έργα',  'Έργα, %',\n",
    " 'Συνολικός Προϋπολογισμός, εκ. €', 'Συνολικός Προϋπολογισμός, %', 'Συνολικός Προϋπολογισμός, μ.ο. χιλ. €',\n",
    " 'Επιχορηγούμενος Προϋπολογισμός, εκ. €', 'Επιχορηγούμενος Προϋπολογισμός, %', 'Επιχορηγούμενος Προϋπολογισμός, μ.ο. χιλ. €',\n",
    " 'Δημόσια Δαπάνη Ολοκλήρωσης, εκ. €', 'Δημόσια Δαπάνη Ολοκλήρωσης, %', 'Δημόσια Δαπάνη Ολοκλήρωσης, μ.ο. χιλ. €', 'Δημόσια Δαπάνη, % πρ/μού']]"
   ]
  },
  {
   "cell_type": "code",
   "execution_count": 129,
   "metadata": {},
   "outputs": [
    {
     "data": {
      "text/html": [
       "<div>\n",
       "<style>\n",
       "    .dataframe thead tr:only-child th {\n",
       "        text-align: right;\n",
       "    }\n",
       "\n",
       "    .dataframe thead th {\n",
       "        text-align: left;\n",
       "    }\n",
       "\n",
       "    .dataframe tbody tr th {\n",
       "        vertical-align: top;\n",
       "    }\n",
       "</style>\n",
       "<table border=\"1\" class=\"dataframe\">\n",
       "  <thead>\n",
       "    <tr style=\"text-align: right;\">\n",
       "      <th></th>\n",
       "      <th>Μέγεθος Επιχείρησης</th>\n",
       "      <th>Έργα</th>\n",
       "      <th>Έργα, %</th>\n",
       "      <th>Συνολικός Προϋπολογισμός, εκ. €</th>\n",
       "      <th>Συνολικός Προϋπολογισμός, %</th>\n",
       "      <th>Συνολικός Προϋπολογισμός, μ.ο. χιλ. €</th>\n",
       "      <th>Επιχορηγούμενος Προϋπολογισμός, εκ. €</th>\n",
       "      <th>Επιχορηγούμενος Προϋπολογισμός, %</th>\n",
       "      <th>Επιχορηγούμενος Προϋπολογισμός, μ.ο. χιλ. €</th>\n",
       "      <th>Δημόσια Δαπάνη Ολοκλήρωσης, εκ. €</th>\n",
       "      <th>Δημόσια Δαπάνη Ολοκλήρωσης, %</th>\n",
       "      <th>Δημόσια Δαπάνη Ολοκλήρωσης, μ.ο. χιλ. €</th>\n",
       "      <th>Δημόσια Δαπάνη, % πρ/μού</th>\n",
       "    </tr>\n",
       "  </thead>\n",
       "  <tbody>\n",
       "    <tr>\n",
       "      <th>0</th>\n",
       "      <td>Μικρές και Πολύ Μικρές</td>\n",
       "      <td>362</td>\n",
       "      <td>74.5</td>\n",
       "      <td>37.53</td>\n",
       "      <td>67.9</td>\n",
       "      <td>103.7</td>\n",
       "      <td>36.64</td>\n",
       "      <td>67.8</td>\n",
       "      <td>101.2</td>\n",
       "      <td>16.73</td>\n",
       "      <td>68.2</td>\n",
       "      <td>46.2</td>\n",
       "      <td>44.6</td>\n",
       "    </tr>\n",
       "    <tr>\n",
       "      <th>1</th>\n",
       "      <td>Μεσαίες</td>\n",
       "      <td>117</td>\n",
       "      <td>24.1</td>\n",
       "      <td>16.39</td>\n",
       "      <td>29.7</td>\n",
       "      <td>140.1</td>\n",
       "      <td>16.08</td>\n",
       "      <td>29.7</td>\n",
       "      <td>137.4</td>\n",
       "      <td>7.29</td>\n",
       "      <td>29.7</td>\n",
       "      <td>62.3</td>\n",
       "      <td>44.4</td>\n",
       "    </tr>\n",
       "    <tr>\n",
       "      <th>2</th>\n",
       "      <td>Μεγάλες</td>\n",
       "      <td>7</td>\n",
       "      <td>1.4</td>\n",
       "      <td>1.34</td>\n",
       "      <td>2.4</td>\n",
       "      <td>191.9</td>\n",
       "      <td>1.33</td>\n",
       "      <td>2.5</td>\n",
       "      <td>190.4</td>\n",
       "      <td>0.53</td>\n",
       "      <td>2.2</td>\n",
       "      <td>76.1</td>\n",
       "      <td>39.7</td>\n",
       "    </tr>\n",
       "  </tbody>\n",
       "</table>\n",
       "</div>"
      ],
      "text/plain": [
       "      Μέγεθος Επιχείρησης  Έργα  Έργα, % Συνολικός Προϋπολογισμός, εκ. €  \\\n",
       "0  Μικρές και Πολύ Μικρές   362     74.5                           37.53   \n",
       "1                 Μεσαίες   117     24.1                           16.39   \n",
       "2                 Μεγάλες     7      1.4                            1.34   \n",
       "\n",
       "   Συνολικός Προϋπολογισμός, %  Συνολικός Προϋπολογισμός, μ.ο. χιλ. €  \\\n",
       "0                         67.9                                  103.7   \n",
       "1                         29.7                                  140.1   \n",
       "2                          2.4                                  191.9   \n",
       "\n",
       "  Επιχορηγούμενος Προϋπολογισμός, εκ. €  Επιχορηγούμενος Προϋπολογισμός, %  \\\n",
       "0                                 36.64                               67.8   \n",
       "1                                 16.08                               29.7   \n",
       "2                                  1.33                                2.5   \n",
       "\n",
       "   Επιχορηγούμενος Προϋπολογισμός, μ.ο. χιλ. €  \\\n",
       "0                                        101.2   \n",
       "1                                        137.4   \n",
       "2                                        190.4   \n",
       "\n",
       "  Δημόσια Δαπάνη Ολοκλήρωσης, εκ. €  Δημόσια Δαπάνη Ολοκλήρωσης, %  \\\n",
       "0                             16.73                           68.2   \n",
       "1                              7.29                           29.7   \n",
       "2                              0.53                            2.2   \n",
       "\n",
       "   Δημόσια Δαπάνη Ολοκλήρωσης, μ.ο. χιλ. €  Δημόσια Δαπάνη, % πρ/μού  \n",
       "0                                     46.2                      44.6  \n",
       "1                                     62.3                      44.4  \n",
       "2                                     76.1                      39.7  "
      ]
     },
     "execution_count": 129,
     "metadata": {},
     "output_type": "execute_result"
    }
   ],
   "source": [
    "size_all_df"
   ]
  },
  {
   "cell_type": "markdown",
   "metadata": {},
   "source": [
    "## 2.5 Export size  df to excel table"
   ]
  },
  {
   "cell_type": "code",
   "execution_count": 130,
   "metadata": {
    "collapsed": true
   },
   "outputs": [],
   "source": [
    "writer = pandas.ExcelWriter('exo_one/tables/Πίνακας_Μέγεθος_Εξωστρέφεια_Ι.xlsx', engine='xlsxwriter')\n",
    "size_all_df.to_excel(writer,'Συγκεντρωτικά ανά Μέγεθος', index=False)\n",
    "writer.save()"
   ]
  },
  {
   "cell_type": "code",
   "execution_count": null,
   "metadata": {
    "collapsed": true
   },
   "outputs": [],
   "source": []
  }
 ],
 "metadata": {
  "kernelspec": {
   "display_name": "Python 3",
   "language": "python",
   "name": "python3"
  },
  "language_info": {
   "codemirror_mode": {
    "name": "ipython",
    "version": 3
   },
   "file_extension": ".py",
   "mimetype": "text/x-python",
   "name": "python",
   "nbconvert_exporter": "python",
   "pygments_lexer": "ipython3",
   "version": "3.6.0"
  }
 },
 "nbformat": 4,
 "nbformat_minor": 2
}
