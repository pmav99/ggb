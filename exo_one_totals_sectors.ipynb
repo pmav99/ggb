{
 "cells": [
  {
   "cell_type": "code",
   "execution_count": 2,
   "metadata": {
    "collapsed": true
   },
   "outputs": [],
   "source": [
    "%load_ext autoreload\n",
    "%autoreload 2\n",
    "import pandas\n",
    "import numpy as np\n",
    "import matplotlib.pyplot as plt\n",
    "from matplotlib import pylab\n",
    "\n",
    "from docx import Document\n",
    "from docx.shared import Pt\n",
    "import traceback\n",
    "from docx.oxml.shared import OxmlElement, qn\n",
    "\n",
    "from matplotlib.ticker import (MultipleLocator, FormatStrFormatter,\n",
    "                               AutoMinorLocator)\n",
    "import seaborn as sns\n",
    "# pandas.set_option('display.float_format', lambda x: '%.1f' % x)\n",
    "%matplotlib inline"
   ]
  },
  {
   "cell_type": "code",
   "execution_count": 3,
   "metadata": {
    "collapsed": true
   },
   "outputs": [],
   "source": [
    "df = pandas.read_csv(\"exo_one/exo_one.csv\")"
   ]
  },
  {
   "cell_type": "code",
   "execution_count": 4,
   "metadata": {
    "collapsed": true
   },
   "outputs": [],
   "source": [
    "df.drop(['Κωδικός Πρότασης', 'Εταίρος ΕΦΔ', 'Επωνυμία Επιχείρησης', 'Περιγραφή ΚΑΔ Επένδυσης'], axis=1, inplace=True)"
   ]
  },
  {
   "cell_type": "code",
   "execution_count": 5,
   "metadata": {
    "collapsed": true
   },
   "outputs": [],
   "source": [
    "df.loc[df['ΠΕΠ'].str.contains('Μεσαίες'), 'ΠΕΠ'] = \"Μεσαίες\"\n",
    "df.loc[df['ΠΕΠ'].str.contains('Μεγάλες'), 'ΠΕΠ'] = \"Μεγάλες\"\n",
    "df.loc[df['ΠΕΠ'].str.contains('Μικρές'), 'ΠΕΠ'] = \"Μικρές και Πολύ Μικρές\""
   ]
  },
  {
   "cell_type": "code",
   "execution_count": 6,
   "metadata": {
    "collapsed": true
   },
   "outputs": [],
   "source": [
    "df.rename(columns={'ΠΕΠ': 'Μέγεθος Επιχείρησης'}, inplace=True)"
   ]
  },
  {
   "cell_type": "code",
   "execution_count": 7,
   "metadata": {
    "collapsed": true
   },
   "outputs": [],
   "source": [
    "df['two_digit_sectors'] = df['ΚΑΔ Επένδυσης'].str[0:2].astype(int)"
   ]
  },
  {
   "cell_type": "code",
   "execution_count": 8,
   "metadata": {},
   "outputs": [
    {
     "data": {
      "text/html": [
       "<div>\n",
       "<style>\n",
       "    .dataframe thead tr:only-child th {\n",
       "        text-align: right;\n",
       "    }\n",
       "\n",
       "    .dataframe thead th {\n",
       "        text-align: left;\n",
       "    }\n",
       "\n",
       "    .dataframe tbody tr th {\n",
       "        vertical-align: top;\n",
       "    }\n",
       "</style>\n",
       "<table border=\"1\" class=\"dataframe\">\n",
       "  <thead>\n",
       "    <tr style=\"text-align: right;\">\n",
       "      <th></th>\n",
       "      <th>ΚΑΔ Επένδυσης</th>\n",
       "      <th>Περιφέρεια Υλοποίησης</th>\n",
       "      <th>Μέγεθος Επιχείρησης</th>\n",
       "      <th>Συνολικός Προϋπολογισμός</th>\n",
       "      <th>Επιχορηγούμενος Προϋπολογισμός</th>\n",
       "      <th>Δημόσια Δαπάνη Ολοκλήρωσης</th>\n",
       "      <th>two_digit_sectors</th>\n",
       "    </tr>\n",
       "  </thead>\n",
       "  <tbody>\n",
       "    <tr>\n",
       "      <th>0</th>\n",
       "      <td>23.70.12</td>\n",
       "      <td>ΘΕΣΣΑΛΙΑ</td>\n",
       "      <td>Μικρές και Πολύ Μικρές</td>\n",
       "      <td>50748.09</td>\n",
       "      <td>47450.0</td>\n",
       "      <td>21352.5</td>\n",
       "      <td>23</td>\n",
       "    </tr>\n",
       "    <tr>\n",
       "      <th>1</th>\n",
       "      <td>27.12.31</td>\n",
       "      <td>ΘΕΣΣΑΛΙΑ</td>\n",
       "      <td>Μικρές και Πολύ Μικρές</td>\n",
       "      <td>153000.00</td>\n",
       "      <td>153000.0</td>\n",
       "      <td>68850.0</td>\n",
       "      <td>27</td>\n",
       "    </tr>\n",
       "  </tbody>\n",
       "</table>\n",
       "</div>"
      ],
      "text/plain": [
       "  ΚΑΔ Επένδυσης Περιφέρεια Υλοποίησης     Μέγεθος Επιχείρησης  \\\n",
       "0      23.70.12              ΘΕΣΣΑΛΙΑ  Μικρές και Πολύ Μικρές   \n",
       "1      27.12.31              ΘΕΣΣΑΛΙΑ  Μικρές και Πολύ Μικρές   \n",
       "\n",
       "   Συνολικός Προϋπολογισμός  Επιχορηγούμενος Προϋπολογισμός  \\\n",
       "0                  50748.09                         47450.0   \n",
       "1                 153000.00                        153000.0   \n",
       "\n",
       "   Δημόσια Δαπάνη Ολοκλήρωσης  two_digit_sectors  \n",
       "0                     21352.5                 23  \n",
       "1                     68850.0                 27  "
      ]
     },
     "execution_count": 8,
     "metadata": {},
     "output_type": "execute_result"
    }
   ],
   "source": [
    "# df.dtypes\n",
    "df.head(2)\n",
    "# df['ΚΑΔ Επένδυσης'].sort_values().unique()\n",
    "# df = df.astype(str, inplace=True)"
   ]
  },
  {
   "cell_type": "code",
   "execution_count": 8,
   "metadata": {},
   "outputs": [
    {
     "data": {
      "text/plain": [
       "ΚΑΔ Επένδυσης                      object\n",
       "Περιφέρεια Υλοποίησης              object\n",
       "Μέγεθος Επιχείρησης                object\n",
       "Συνολικός Προϋπολογισμός          float64\n",
       "Επιχορηγούμενος Προϋπολογισμός    float64\n",
       "Δημόσια Δαπάνη Ολοκλήρωσης        float64\n",
       "two_digit_sectors                   int64\n",
       "dtype: object"
      ]
     },
     "execution_count": 8,
     "metadata": {},
     "output_type": "execute_result"
    }
   ],
   "source": [
    "df.dtypes"
   ]
  },
  {
   "cell_type": "code",
   "execution_count": 9,
   "metadata": {},
   "outputs": [
    {
     "data": {
      "text/plain": [
       "array([10, 11, 12, 13, 14, 15, 16, 17, 18, 20, 21, 22, 23, 24, 25, 26, 27,\n",
       "       28, 29, 30, 31, 32, 33, 41, 42, 43, 46, 58, 62, 63, 70, 71, 73, 74,\n",
       "       86])"
      ]
     },
     "execution_count": 9,
     "metadata": {},
     "output_type": "execute_result"
    }
   ],
   "source": [
    "df['two_digit_sectors'].sort_values().unique()"
   ]
  },
  {
   "cell_type": "code",
   "execution_count": 10,
   "metadata": {
    "collapsed": true
   },
   "outputs": [],
   "source": [
    "### the following lines are not necessary if excel file is saved as csv without comma thousand separators\n",
    "# df['Συνολικός Προϋπολογισμός'] = df['Συνολικός Προϋπολογισμός'].str.replace(\",\",\"\").astype(float)\n",
    "# df['Επιχορηγούμενος Προϋπολογισμός'] = df['Επιχορηγούμενος Προϋπολογισμός'].str.replace(\",\",\"\").astype(float)\n",
    "# df['Δημόσια Δαπάνη Ολοκλήρωσης'] = df['Δημόσια Δαπάνη Ολοκλήρωσης'].str.replace(\",\",\"\").astype(float)"
   ]
  },
  {
   "cell_type": "code",
   "execution_count": 11,
   "metadata": {},
   "outputs": [
    {
     "data": {
      "text/html": [
       "<div>\n",
       "<style>\n",
       "    .dataframe thead tr:only-child th {\n",
       "        text-align: right;\n",
       "    }\n",
       "\n",
       "    .dataframe thead th {\n",
       "        text-align: left;\n",
       "    }\n",
       "\n",
       "    .dataframe tbody tr th {\n",
       "        vertical-align: top;\n",
       "    }\n",
       "</style>\n",
       "<table border=\"1\" class=\"dataframe\">\n",
       "  <thead>\n",
       "    <tr style=\"text-align: right;\">\n",
       "      <th></th>\n",
       "      <th>Συνολικός Προϋπολογισμός</th>\n",
       "      <th>Επιχορηγούμενος Προϋπολογισμός</th>\n",
       "      <th>Δημόσια Δαπάνη Ολοκλήρωσης</th>\n",
       "    </tr>\n",
       "    <tr>\n",
       "      <th>two_digit_sectors</th>\n",
       "      <th></th>\n",
       "      <th></th>\n",
       "      <th></th>\n",
       "    </tr>\n",
       "  </thead>\n",
       "  <tbody>\n",
       "    <tr>\n",
       "      <th>15</th>\n",
       "      <td>353654.12</td>\n",
       "      <td>326300.02</td>\n",
       "      <td>146835.01</td>\n",
       "    </tr>\n",
       "  </tbody>\n",
       "</table>\n",
       "</div>"
      ],
      "text/plain": [
       "                   Συνολικός Προϋπολογισμός  Επιχορηγούμενος Προϋπολογισμός  \\\n",
       "two_digit_sectors                                                             \n",
       "15                                353654.12                       326300.02   \n",
       "\n",
       "                   Δημόσια Δαπάνη Ολοκλήρωσης  \n",
       "two_digit_sectors                              \n",
       "15                                  146835.01  "
      ]
     },
     "execution_count": 11,
     "metadata": {},
     "output_type": "execute_result"
    }
   ],
   "source": [
    "totals = df.groupby(['two_digit_sectors'],sort=True).sum()\n",
    "totals.sample()"
   ]
  },
  {
   "cell_type": "code",
   "execution_count": 12,
   "metadata": {
    "collapsed": true
   },
   "outputs": [],
   "source": [
    "sectors={}\n",
    "for i in range(10, 34):  # range(a,b) gives [a,b)\n",
    "    sectors[i] = 'Μεταποίηση'\n",
    "for i in range(41, 44):\n",
    "    sectors[i] = \"Κατασκευές\"\n",
    "for i in range(45, 48):\n",
    "    sectors[i] = \"Εμπόριο\"\n",
    "for i in range(58, 64):\n",
    "    sectors[i] = \"ΤΠΕ\"\n",
    "for i in range(70, 75):\n",
    "    sectors[i] = \"Επαγ/Επιστ. Δρ.\"\n",
    "sectors[86] = \"Υγεία\"\n",
    "## the following sectors are present only in exo2 \n",
    "# sectors[38] = \"Άλλο\"\n",
    "# sectors[1] = \"Άλλο\"\n",
    "# sectors[8] = \"Άλλο\"\n",
    "# sectors"
   ]
  },
  {
   "cell_type": "code",
   "execution_count": 13,
   "metadata": {
    "collapsed": true
   },
   "outputs": [],
   "source": [
    "df['Κλάδος'] = df[\"two_digit_sectors\"].map(sectors)\n",
    "# df['Κλάδος'].head()"
   ]
  },
  {
   "cell_type": "code",
   "execution_count": 14,
   "metadata": {},
   "outputs": [
    {
     "data": {
      "text/html": [
       "<div>\n",
       "<style>\n",
       "    .dataframe thead tr:only-child th {\n",
       "        text-align: right;\n",
       "    }\n",
       "\n",
       "    .dataframe thead th {\n",
       "        text-align: left;\n",
       "    }\n",
       "\n",
       "    .dataframe tbody tr th {\n",
       "        vertical-align: top;\n",
       "    }\n",
       "</style>\n",
       "<table border=\"1\" class=\"dataframe\">\n",
       "  <thead>\n",
       "    <tr style=\"text-align: right;\">\n",
       "      <th></th>\n",
       "      <th>Συνολικός Προϋπολογισμός</th>\n",
       "      <th>Επιχορηγούμενος Προϋπολογισμός</th>\n",
       "      <th>Δημόσια Δαπάνη Ολοκλήρωσης</th>\n",
       "      <th>two_digit_sectors</th>\n",
       "    </tr>\n",
       "    <tr>\n",
       "      <th>Κλάδος</th>\n",
       "      <th></th>\n",
       "      <th></th>\n",
       "      <th></th>\n",
       "      <th></th>\n",
       "    </tr>\n",
       "  </thead>\n",
       "  <tbody>\n",
       "    <tr>\n",
       "      <th>Εμπόριο</th>\n",
       "      <td>3804814.48</td>\n",
       "      <td>3770496.43</td>\n",
       "      <td>1861148.90</td>\n",
       "      <td>1058</td>\n",
       "    </tr>\n",
       "    <tr>\n",
       "      <th>Επαγ/Επιστ. Δρ.</th>\n",
       "      <td>2130415.09</td>\n",
       "      <td>2088316.66</td>\n",
       "      <td>955797.89</td>\n",
       "      <td>2198</td>\n",
       "    </tr>\n",
       "    <tr>\n",
       "      <th>Κατασκευές</th>\n",
       "      <td>925794.39</td>\n",
       "      <td>917316.65</td>\n",
       "      <td>404262.14</td>\n",
       "      <td>544</td>\n",
       "    </tr>\n",
       "    <tr>\n",
       "      <th>Μεταποίηση</th>\n",
       "      <td>37503875.90</td>\n",
       "      <td>36701685.01</td>\n",
       "      <td>16555866.08</td>\n",
       "      <td>6616</td>\n",
       "    </tr>\n",
       "    <tr>\n",
       "      <th>ΤΠΕ</th>\n",
       "      <td>10693094.32</td>\n",
       "      <td>10360070.24</td>\n",
       "      <td>4677934.55</td>\n",
       "      <td>6268</td>\n",
       "    </tr>\n",
       "    <tr>\n",
       "      <th>Υγεία</th>\n",
       "      <td>214425.97</td>\n",
       "      <td>214425.97</td>\n",
       "      <td>96115.35</td>\n",
       "      <td>172</td>\n",
       "    </tr>\n",
       "  </tbody>\n",
       "</table>\n",
       "</div>"
      ],
      "text/plain": [
       "                 Συνολικός Προϋπολογισμός  Επιχορηγούμενος Προϋπολογισμός  \\\n",
       "Κλάδος                                                                      \n",
       "Εμπόριο                        3804814.48                      3770496.43   \n",
       "Επαγ/Επιστ. Δρ.                2130415.09                      2088316.66   \n",
       "Κατασκευές                      925794.39                       917316.65   \n",
       "Μεταποίηση                    37503875.90                     36701685.01   \n",
       "ΤΠΕ                           10693094.32                     10360070.24   \n",
       "Υγεία                           214425.97                       214425.97   \n",
       "\n",
       "                 Δημόσια Δαπάνη Ολοκλήρωσης  two_digit_sectors  \n",
       "Κλάδος                                                          \n",
       "Εμπόριο                          1861148.90               1058  \n",
       "Επαγ/Επιστ. Δρ.                   955797.89               2198  \n",
       "Κατασκευές                        404262.14                544  \n",
       "Μεταποίηση                      16555866.08               6616  \n",
       "ΤΠΕ                              4677934.55               6268  \n",
       "Υγεία                              96115.35                172  "
      ]
     },
     "execution_count": 14,
     "metadata": {},
     "output_type": "execute_result"
    }
   ],
   "source": [
    "general_sec_totals = df.groupby(['Κλάδος'], sort=True).sum()\n",
    "general_sec_totals"
   ]
  },
  {
   "cell_type": "code",
   "execution_count": 15,
   "metadata": {
    "collapsed": true
   },
   "outputs": [],
   "source": [
    "general_sec_totals.drop(['two_digit_sectors'], axis=1, inplace=True)\n",
    "df.drop(['two_digit_sectors'], axis=1, inplace=True)"
   ]
  },
  {
   "cell_type": "code",
   "execution_count": 16,
   "metadata": {
    "collapsed": true
   },
   "outputs": [],
   "source": [
    "# general_sec_totals"
   ]
  },
  {
   "cell_type": "code",
   "execution_count": 17,
   "metadata": {
    "collapsed": true
   },
   "outputs": [],
   "source": [
    "general_sec_totals = general_sec_totals.sort_values(\"Συνολικός Προϋπολογισμός\", ascending=False).reset_index()"
   ]
  },
  {
   "cell_type": "code",
   "execution_count": 18,
   "metadata": {
    "collapsed": true
   },
   "outputs": [],
   "source": [
    "# general_sec_totals"
   ]
  },
  {
   "cell_type": "code",
   "execution_count": 19,
   "metadata": {
    "collapsed": true
   },
   "outputs": [],
   "source": [
    "general_sec_means = df.groupby(['Κλάδος'], sort=True).mean()"
   ]
  },
  {
   "cell_type": "code",
   "execution_count": 20,
   "metadata": {
    "collapsed": true
   },
   "outputs": [],
   "source": [
    "# for col in general_sec_means.columns:\n",
    "#     totals_df[col] = totals_df[col]/1000\n",
    "# general_sec_means = general_sec_means/1000"
   ]
  },
  {
   "cell_type": "code",
   "execution_count": 21,
   "metadata": {
    "collapsed": true
   },
   "outputs": [],
   "source": [
    "# general_sec_means.drop(['two_digit_sectors'], axis=1, inplace=True)\n",
    "general_sec_means = general_sec_means.add_suffix(\", μέσος όρος, χιλ. ευρώ\")\n",
    "general_sec_means = general_sec_means.reset_index()\n",
    "# general_sec_means"
   ]
  },
  {
   "cell_type": "code",
   "execution_count": 22,
   "metadata": {
    "collapsed": true
   },
   "outputs": [],
   "source": [
    "# general_sec_means"
   ]
  },
  {
   "cell_type": "code",
   "execution_count": 23,
   "metadata": {
    "collapsed": true
   },
   "outputs": [],
   "source": [
    "projects_number = df.groupby(['Κλάδος'], sort=True).size()\n",
    "# projects_number"
   ]
  },
  {
   "cell_type": "code",
   "execution_count": 24,
   "metadata": {
    "collapsed": true
   },
   "outputs": [],
   "source": [
    "projects_df = pandas.DataFrame(projects_number, columns=['Αριθμός Έργων']).reset_index()\n",
    "# projects_df"
   ]
  },
  {
   "cell_type": "code",
   "execution_count": 25,
   "metadata": {
    "collapsed": true
   },
   "outputs": [],
   "source": [
    "totals_df = pandas.merge(general_sec_totals, projects_df, on=\"Κλάδος\")\n",
    "totals_df = pandas.merge(totals_df, general_sec_means, on=\"Κλάδος\")\n",
    "# totals_df"
   ]
  },
  {
   "cell_type": "code",
   "execution_count": 26,
   "metadata": {
    "collapsed": true
   },
   "outputs": [],
   "source": [
    "total_budget = totals_df[\"Συνολικός Προϋπολογισμός\"].sum()\n",
    "subsidy_budget = totals_df[\"Επιχορηγούμενος Προϋπολογισμός\"].sum()\n",
    "public_spending = totals_df[\"Δημόσια Δαπάνη Ολοκλήρωσης\"].sum()\n",
    "total_projects = totals_df['Αριθμός Έργων'].sum()"
   ]
  },
  {
   "cell_type": "code",
   "execution_count": 27,
   "metadata": {
    "collapsed": true
   },
   "outputs": [],
   "source": [
    "totals_df['% Συνολικού Προϋπολογισμού'] = (totals_df['Συνολικός Προϋπολογισμός']/total_budget)*100\n",
    "totals_df['% Επιχορηγούμενου Προϋπολογισμού'] = (totals_df['Επιχορηγούμενος Προϋπολογισμός']/subsidy_budget*100)\n",
    "totals_df['% Δημόσιας Δαπάνης Ολοκλήρωσης'] = (totals_df['Δημόσια Δαπάνη Ολοκλήρωσης']/public_spending)*100\n",
    "totals_df['% Συνόλου Έργων'] = (totals_df['Αριθμός Έργων']/total_projects)*100\n",
    "totals_df['% Δημόσιας Δαπάνης στο Σύνολο του Προϋπολογισμού'] = totals_df['Δημόσια Δαπάνη Ολοκλήρωσης']/totals_df['Συνολικός Προϋπολογισμός']*100"
   ]
  },
  {
   "cell_type": "code",
   "execution_count": 28,
   "metadata": {
    "collapsed": true
   },
   "outputs": [],
   "source": [
    "# totals_df"
   ]
  },
  {
   "cell_type": "code",
   "execution_count": 29,
   "metadata": {
    "collapsed": true
   },
   "outputs": [],
   "source": [
    "# totals_df.dtypes"
   ]
  },
  {
   "cell_type": "code",
   "execution_count": 30,
   "metadata": {
    "collapsed": true
   },
   "outputs": [],
   "source": [
    "# totals_df['Αριθμός Έργων'] = totals_df['Αριθμός Έργων'].astype(float)"
   ]
  },
  {
   "cell_type": "markdown",
   "metadata": {},
   "source": [
    "## Reformat data for beautiful charts"
   ]
  },
  {
   "cell_type": "code",
   "execution_count": 31,
   "metadata": {
    "collapsed": true
   },
   "outputs": [],
   "source": [
    "# print (totals_df.columns.isin(df.columns))"
   ]
  },
  {
   "cell_type": "code",
   "execution_count": 32,
   "metadata": {
    "collapsed": true
   },
   "outputs": [],
   "source": [
    "for col in totals_df.columns[1:4]:\n",
    "    totals_df[col] = totals_df[col]/1000000 # Συνολικοί Προϋπολογισμοί, σε εκατ. ευρω\n",
    "for col in totals_df.columns[5:8]:\n",
    "    totals_df[col] = totals_df[col]/1000 # Mέσος όρος δαπανών ολοκλήρωσης, σε εκατοντάδες χιλιάδες ευρώ"
   ]
  },
  {
   "cell_type": "markdown",
   "metadata": {},
   "source": [
    "#### Rename columns names with millions"
   ]
  },
  {
   "cell_type": "code",
   "execution_count": 33,
   "metadata": {},
   "outputs": [
    {
     "data": {
      "text/html": [
       "<div>\n",
       "<style>\n",
       "    .dataframe thead tr:only-child th {\n",
       "        text-align: right;\n",
       "    }\n",
       "\n",
       "    .dataframe thead th {\n",
       "        text-align: left;\n",
       "    }\n",
       "\n",
       "    .dataframe tbody tr th {\n",
       "        vertical-align: top;\n",
       "    }\n",
       "</style>\n",
       "<table border=\"1\" class=\"dataframe\">\n",
       "  <thead>\n",
       "    <tr style=\"text-align: right;\">\n",
       "      <th></th>\n",
       "      <th>Κλάδος</th>\n",
       "      <th>Συνολικός Προϋπολογισμός, εκ. ευρώ</th>\n",
       "      <th>Επιχορηγούμενος Προϋπολογισμός, εκ. ευρώ</th>\n",
       "      <th>Δημόσια Δαπάνη Ολοκλήρωσης, εκ. ευρώ</th>\n",
       "      <th>Αριθμός Έργων</th>\n",
       "      <th>Συνολικός Προϋπολογισμός, μέσος όρος, χιλ. ευρώ</th>\n",
       "      <th>Επιχορηγούμενος Προϋπολογισμός, μέσος όρος, χιλ. ευρώ</th>\n",
       "      <th>Δημόσια Δαπάνη Ολοκλήρωσης, μέσος όρος, χιλ. ευρώ</th>\n",
       "      <th>% Συνολικού Προϋπολογισμού</th>\n",
       "      <th>% Επιχορηγούμενου Προϋπολογισμού</th>\n",
       "      <th>% Δημόσιας Δαπάνης Ολοκλήρωσης</th>\n",
       "      <th>% Συνόλου Έργων</th>\n",
       "      <th>% Δημόσιας Δαπάνης στο Σύνολο του Προϋπολογισμού</th>\n",
       "    </tr>\n",
       "  </thead>\n",
       "  <tbody>\n",
       "    <tr>\n",
       "      <th>0</th>\n",
       "      <td>Μεταποίηση</td>\n",
       "      <td>37.503876</td>\n",
       "      <td>36.701685</td>\n",
       "      <td>16.555866</td>\n",
       "      <td>315</td>\n",
       "      <td>119.059923</td>\n",
       "      <td>116.513286</td>\n",
       "      <td>52.558305</td>\n",
       "      <td>67.852784</td>\n",
       "      <td>67.900307</td>\n",
       "      <td>67.434246</td>\n",
       "      <td>64.814815</td>\n",
       "      <td>44.144414</td>\n",
       "    </tr>\n",
       "    <tr>\n",
       "      <th>1</th>\n",
       "      <td>ΤΠΕ</td>\n",
       "      <td>10.693094</td>\n",
       "      <td>10.360070</td>\n",
       "      <td>4.677935</td>\n",
       "      <td>102</td>\n",
       "      <td>104.834258</td>\n",
       "      <td>101.569316</td>\n",
       "      <td>45.862103</td>\n",
       "      <td>19.346166</td>\n",
       "      <td>19.166748</td>\n",
       "      <td>19.053850</td>\n",
       "      <td>20.987654</td>\n",
       "      <td>43.747249</td>\n",
       "    </tr>\n",
       "    <tr>\n",
       "      <th>2</th>\n",
       "      <td>Εμπόριο</td>\n",
       "      <td>3.804814</td>\n",
       "      <td>3.770496</td>\n",
       "      <td>1.861149</td>\n",
       "      <td>23</td>\n",
       "      <td>165.426717</td>\n",
       "      <td>163.934627</td>\n",
       "      <td>80.919517</td>\n",
       "      <td>6.883749</td>\n",
       "      <td>6.975643</td>\n",
       "      <td>7.580707</td>\n",
       "      <td>4.732510</td>\n",
       "      <td>48.915628</td>\n",
       "    </tr>\n",
       "    <tr>\n",
       "      <th>3</th>\n",
       "      <td>Επαγ/Επιστ. Δρ.</td>\n",
       "      <td>2.130415</td>\n",
       "      <td>2.088317</td>\n",
       "      <td>0.955798</td>\n",
       "      <td>31</td>\n",
       "      <td>68.723067</td>\n",
       "      <td>67.365054</td>\n",
       "      <td>30.832190</td>\n",
       "      <td>3.854391</td>\n",
       "      <td>3.863510</td>\n",
       "      <td>3.893092</td>\n",
       "      <td>6.378601</td>\n",
       "      <td>44.864397</td>\n",
       "    </tr>\n",
       "    <tr>\n",
       "      <th>4</th>\n",
       "      <td>Κατασκευές</td>\n",
       "      <td>0.925794</td>\n",
       "      <td>0.917317</td>\n",
       "      <td>0.404262</td>\n",
       "      <td>13</td>\n",
       "      <td>71.214953</td>\n",
       "      <td>70.562819</td>\n",
       "      <td>31.097088</td>\n",
       "      <td>1.674966</td>\n",
       "      <td>1.697091</td>\n",
       "      <td>1.646614</td>\n",
       "      <td>2.674897</td>\n",
       "      <td>43.666514</td>\n",
       "    </tr>\n",
       "    <tr>\n",
       "      <th>5</th>\n",
       "      <td>Υγεία</td>\n",
       "      <td>0.214426</td>\n",
       "      <td>0.214426</td>\n",
       "      <td>0.096115</td>\n",
       "      <td>2</td>\n",
       "      <td>107.212985</td>\n",
       "      <td>107.212985</td>\n",
       "      <td>48.057675</td>\n",
       "      <td>0.387944</td>\n",
       "      <td>0.396701</td>\n",
       "      <td>0.391491</td>\n",
       "      <td>0.411523</td>\n",
       "      <td>44.824491</td>\n",
       "    </tr>\n",
       "  </tbody>\n",
       "</table>\n",
       "</div>"
      ],
      "text/plain": [
       "            Κλάδος  Συνολικός Προϋπολογισμός, εκ. ευρώ  \\\n",
       "0       Μεταποίηση                           37.503876   \n",
       "1              ΤΠΕ                           10.693094   \n",
       "2          Εμπόριο                            3.804814   \n",
       "3  Επαγ/Επιστ. Δρ.                            2.130415   \n",
       "4       Κατασκευές                            0.925794   \n",
       "5            Υγεία                            0.214426   \n",
       "\n",
       "   Επιχορηγούμενος Προϋπολογισμός, εκ. ευρώ  \\\n",
       "0                                 36.701685   \n",
       "1                                 10.360070   \n",
       "2                                  3.770496   \n",
       "3                                  2.088317   \n",
       "4                                  0.917317   \n",
       "5                                  0.214426   \n",
       "\n",
       "   Δημόσια Δαπάνη Ολοκλήρωσης, εκ. ευρώ  Αριθμός Έργων  \\\n",
       "0                             16.555866            315   \n",
       "1                              4.677935            102   \n",
       "2                              1.861149             23   \n",
       "3                              0.955798             31   \n",
       "4                              0.404262             13   \n",
       "5                              0.096115              2   \n",
       "\n",
       "   Συνολικός Προϋπολογισμός, μέσος όρος, χιλ. ευρώ  \\\n",
       "0                                       119.059923   \n",
       "1                                       104.834258   \n",
       "2                                       165.426717   \n",
       "3                                        68.723067   \n",
       "4                                        71.214953   \n",
       "5                                       107.212985   \n",
       "\n",
       "   Επιχορηγούμενος Προϋπολογισμός, μέσος όρος, χιλ. ευρώ  \\\n",
       "0                                         116.513286       \n",
       "1                                         101.569316       \n",
       "2                                         163.934627       \n",
       "3                                          67.365054       \n",
       "4                                          70.562819       \n",
       "5                                         107.212985       \n",
       "\n",
       "   Δημόσια Δαπάνη Ολοκλήρωσης, μέσος όρος, χιλ. ευρώ  \\\n",
       "0                                          52.558305   \n",
       "1                                          45.862103   \n",
       "2                                          80.919517   \n",
       "3                                          30.832190   \n",
       "4                                          31.097088   \n",
       "5                                          48.057675   \n",
       "\n",
       "   % Συνολικού Προϋπολογισμού  % Επιχορηγούμενου Προϋπολογισμού  \\\n",
       "0                   67.852784                         67.900307   \n",
       "1                   19.346166                         19.166748   \n",
       "2                    6.883749                          6.975643   \n",
       "3                    3.854391                          3.863510   \n",
       "4                    1.674966                          1.697091   \n",
       "5                    0.387944                          0.396701   \n",
       "\n",
       "   % Δημόσιας Δαπάνης Ολοκλήρωσης  % Συνόλου Έργων  \\\n",
       "0                       67.434246        64.814815   \n",
       "1                       19.053850        20.987654   \n",
       "2                        7.580707         4.732510   \n",
       "3                        3.893092         6.378601   \n",
       "4                        1.646614         2.674897   \n",
       "5                        0.391491         0.411523   \n",
       "\n",
       "   % Δημόσιας Δαπάνης στο Σύνολο του Προϋπολογισμού  \n",
       "0                                         44.144414  \n",
       "1                                         43.747249  \n",
       "2                                         48.915628  \n",
       "3                                         44.864397  \n",
       "4                                         43.666514  \n",
       "5                                         44.824491  "
      ]
     },
     "execution_count": 33,
     "metadata": {},
     "output_type": "execute_result"
    }
   ],
   "source": [
    "totals_df.columns = np.where(totals_df.columns.isin(totals.columns), totals_df.columns + \", εκ. ευρώ\", totals_df.columns)\n",
    "totals_df"
   ]
  },
  {
   "cell_type": "code",
   "execution_count": 34,
   "metadata": {},
   "outputs": [
    {
     "data": {
      "text/plain": [
       "['Κλάδος',\n",
       " 'Συνολικός Προϋπολογισμός, εκ. ευρώ',\n",
       " 'Επιχορηγούμενος Προϋπολογισμός, εκ. ευρώ',\n",
       " 'Δημόσια Δαπάνη Ολοκλήρωσης, εκ. ευρώ',\n",
       " 'Αριθμός Έργων',\n",
       " 'Συνολικός Προϋπολογισμός, μέσος όρος, χιλ. ευρώ',\n",
       " 'Επιχορηγούμενος Προϋπολογισμός, μέσος όρος, χιλ. ευρώ',\n",
       " 'Δημόσια Δαπάνη Ολοκλήρωσης, μέσος όρος, χιλ. ευρώ',\n",
       " '% Συνολικού Προϋπολογισμού',\n",
       " '% Επιχορηγούμενου Προϋπολογισμού',\n",
       " '% Δημόσιας Δαπάνης Ολοκλήρωσης',\n",
       " '% Συνόλου Έργων',\n",
       " '% Δημόσιας Δαπάνης στο Σύνολο του Προϋπολογισμού']"
      ]
     },
     "execution_count": 34,
     "metadata": {},
     "output_type": "execute_result"
    }
   ],
   "source": [
    "list(totals_df.columns)"
   ]
  },
  {
   "cell_type": "code",
   "execution_count": 35,
   "metadata": {
    "collapsed": true
   },
   "outputs": [],
   "source": [
    "totals_df = totals_df[[\n",
    " 'Κλάδος',\n",
    " 'Αριθμός Έργων', '% Συνόλου Έργων',\n",
    " 'Συνολικός Προϋπολογισμός, εκ. ευρώ', '% Συνολικού Προϋπολογισμού', 'Συνολικός Προϋπολογισμός, μέσος όρος, χιλ. ευρώ',\n",
    " 'Επιχορηγούμενος Προϋπολογισμός, εκ. ευρώ', '% Επιχορηγούμενου Προϋπολογισμού', 'Επιχορηγούμενος Προϋπολογισμός, μέσος όρος, χιλ. ευρώ',\n",
    " 'Δημόσια Δαπάνη Ολοκλήρωσης, εκ. ευρώ',  '% Δημόσιας Δαπάνης Ολοκλήρωσης', 'Δημόσια Δαπάνη Ολοκλήρωσης, μέσος όρος, χιλ. ευρώ',\n",
    " '% Δημόσιας Δαπάνης στο Σύνολο του Προϋπολογισμού']]\n",
    "# totals_df"
   ]
  },
  {
   "cell_type": "markdown",
   "metadata": {},
   "source": [
    "## the following cell creates xlsx file. Do not run again"
   ]
  },
  {
   "cell_type": "code",
   "execution_count": 36,
   "metadata": {
    "collapsed": true
   },
   "outputs": [],
   "source": [
    "# writer = pandas.ExcelWriter('exo_one/tables/ΣυγκεντρωτικόςΠίνακαςΕξω1.xlsx', engine='xlsxwriter')\n",
    "# totals_df.to_excel(writer,'Συγκεντρωτικά δεδομένα', index=False)\n",
    "# writer.save()"
   ]
  },
  {
   "cell_type": "markdown",
   "metadata": {},
   "source": [
    "## the following cell is a format test"
   ]
  },
  {
   "cell_type": "code",
   "execution_count": 37,
   "metadata": {
    "collapsed": true
   },
   "outputs": [],
   "source": [
    "# import xlsxwriter\n",
    "# workbook = xlsxwriter.Workbook('test.xlsx')\n",
    "# format = workbook.add_format({'bold': True, 'font_color': 'red'})"
   ]
  },
  {
   "cell_type": "markdown",
   "metadata": {},
   "source": [
    "## Formated Output of table to word document"
   ]
  },
  {
   "cell_type": "code",
   "execution_count": 38,
   "metadata": {
    "collapsed": true
   },
   "outputs": [],
   "source": [
    "## TODO:\n",
    "## Remenber to remove line after paragraph !!!\n",
    "def set_cell_vertical_alignment(cell, align=\"center\"): \n",
    "    try:   \n",
    "        tc = cell._tc\n",
    "        tcPr = tc.get_or_add_tcPr()\n",
    "        tcValign = OxmlElement('w:vAlign')  \n",
    "        tcValign.set(qn('w:val'), align)  \n",
    "        tcPr.append(tcValign)\n",
    "        return True \n",
    "    except:\n",
    "        traceback.print_exc()             \n",
    "        return False\n",
    "\n",
    "def set_vert_cell_direction(cell):\n",
    "    tc = cell._tc\n",
    "    tcPr = tc.tcPr\n",
    "    if tcPr is None:\n",
    "        tcPr = OxmlElement('w:tcPr')\n",
    "        tc.insert(0, tcPr)\n",
    "    textDirection = OxmlElement('w:textDirection')\n",
    "    textDirection.set(qn('w:val'), 'btLr')\n",
    "    tcPr.append(textDirection)\n",
    "    \n",
    "## open an existing document\n",
    "# doc = docx.Document('./test.docx')\n",
    "\n",
    "# create a new empty Document\n",
    "doc = Document()\n",
    "\n",
    "# add a table to the end and create a reference variable\n",
    "# extra row is so we can add the header row\n",
    "t = doc.add_table(totals_df.shape[0]+1, totals_df.shape[1])\n",
    "t.autofit = True\n",
    "\n",
    "# add the header rows.\n",
    "for j in range(totals_df.shape[-1]):\n",
    "    t.cell(0,j).text = totals_df.columns[j]\n",
    "    t.cell(0,j).paragraphs[0].runs[0].font.size = Pt(8)\n",
    "    set_cell_vertical_alignment(t.cell(0,j))\n",
    "    set_vert_cell_direction(t.cell(0,j))\n",
    "\n",
    "    t.autofit = True\n",
    "\n",
    "# add index headers:\n",
    "for i in range(totals_df.shape[0]):\n",
    "    t.cell(i+1,0).text =  totals_df.iloc[i, 0]\n",
    "    t.cell(i+1,0).paragraphs[0].runs[0].font.size = Pt(8)\n",
    "    set_cell_vertical_alignment(t.cell(i+1,0))\n",
    "\n",
    "\n",
    "# add the rest of the data frame\n",
    "for i in range(totals_df.shape[0]):\n",
    "    for j in range(1, totals_df.shape[-1]):\n",
    "        t.cell(i+1,j).text = str(totals_df.values[i,j])\n",
    "        t.cell(i+1, j).text = ('{:.5}'.format(t.cell(i+1,j).text))\n",
    "        t.cell(i+1,j).paragraphs[0].runs[0].font.size = Pt(8)\n",
    "        set_cell_vertical_alignment(t.cell(i+1,j))\n",
    "\n",
    "# save the doc\n",
    "doc.save('./exo_one/tables/Συγκενρωτικός_Εξω1.docx')"
   ]
  },
  {
   "cell_type": "markdown",
   "metadata": {},
   "source": [
    "## Set style defaults for charts"
   ]
  },
  {
   "cell_type": "code",
   "execution_count": 39,
   "metadata": {},
   "outputs": [
    {
     "data": {
      "text/plain": [
       "<matplotlib.figure.Figure at 0x7fd23a4e9710>"
      ]
     },
     "metadata": {},
     "output_type": "display_data"
    }
   ],
   "source": [
    "sns.set()\n",
    "sns.despine()\n",
    "sns.set_style(\"darkgrid\", {'axes.grid': True})\n",
    "plt.rcParams['figure.figsize']=(10,10)\n",
    "plt.rcParams[\"axes.labelsize\"] = 13\n",
    "plt.rcParams[\"xtick.labelsize\"] = 12\n",
    "plt.rcParams[\"ytick.labelsize\"] = 12"
   ]
  },
  {
   "cell_type": "markdown",
   "metadata": {},
   "source": [
    "# the following cells create and save all charts !!!"
   ]
  },
  {
   "cell_type": "markdown",
   "metadata": {},
   "source": [
    "### Create chart for number of projects"
   ]
  },
  {
   "cell_type": "code",
   "execution_count": 40,
   "metadata": {},
   "outputs": [
    {
     "data": {
      "image/png": "[encoded data removed]",
      "text/plain": [
       "<matplotlib.figure.Figure at 0x7fd23a4a8630>"
      ]
     },
     "metadata": {},
     "output_type": "display_data"
    }
   ],
   "source": [
    "ncount = len(df)\n",
    "ax = sns.barplot(x='Κλάδος', y=\"Αριθμός Έργων\", data = totals_df, orient=\"v\")\n",
    "# ax.set_title('Σύνολο και ποσοστό έργων ανά κλάδο', fontsize=25)\n",
    "ax.set_ylabel('Αριθμός Έργων και % συνόλου έργων')\n",
    "for p in ax.patches:\n",
    "    x=p.get_bbox().get_points()[:,0]\n",
    "    y=p.get_bbox().get_points()[1,1]\n",
    "    ax.annotate('{:.1f}%'.format((y/ncount)*100), (x.mean(), y-4), \n",
    "            ha='center', va='top', fontsize=14)\n",
    "    x=p.get_bbox().get_points()[:,0]\n",
    "    y=p.get_bbox().get_points()[1,1]\n",
    "    ax.annotate('{:.0f}'.format(y), (x.mean(), y+0.6), \n",
    "            ha='center', va='bottom', fontsize=14)\n",
    "plt.tight_layout()\n",
    "plt.savefig(\"exo_one/diagrams/Αριθμός Έργων.png\", format='png', bbox_inches='tight')\n",
    "# plt.clf()"
   ]
  },
  {
   "cell_type": "markdown",
   "metadata": {},
   "source": [
    "### create charts for totals"
   ]
  },
  {
   "cell_type": "code",
   "execution_count": 41,
   "metadata": {
    "scrolled": true
   },
   "outputs": [
    {
     "data": {
      "text/plain": [
       "<matplotlib.figure.Figure at 0x7fd23a4bea90>"
      ]
     },
     "metadata": {},
     "output_type": "display_data"
    }
   ],
   "source": [
    "output_dir = \"exo_one/diagrams/\"\n",
    "for col in totals_df.columns[[3, 6, 9]]:\n",
    "    ncount = totals_df[col].sum()\n",
    "    ax = sns.barplot(x=\"Κλάδος\", y=col, data = totals_df)\n",
    "#     ax.set_title(totals_df[col].name + ', ανά κλάδο', fontsize=22)\n",
    "    for p in ax.patches:\n",
    "        x=p.get_bbox().get_points()[:,0]\n",
    "        y=p.get_bbox().get_points()[1,1]\n",
    "        ax.annotate('{:.1f} εκ.'.format(y), (x.mean(), y+(2/100)*ncount), \n",
    "                ha='center', va='top', fontsize=14)\n",
    "        x=p.get_bbox().get_points()[:,0]\n",
    "        y=p.get_bbox().get_points()[1,1]\n",
    "        ax.annotate('{:.1f}%'.format(y/ncount*100), (x.mean(), y-(2.64/100)*ncount/1.5), \n",
    "                ha='center', va='bottom', fontsize=14)\n",
    "    filename = col\n",
    "    plt.tight_layout()\n",
    "    plt.savefig('{}'.format(output_dir) + filename + \".png\", format='png', bbox_inches='tight')\n",
    "    plt.clf()"
   ]
  },
  {
   "cell_type": "code",
   "execution_count": 42,
   "metadata": {
    "scrolled": false
   },
   "outputs": [
    {
     "data": {
      "text/plain": [
       "<matplotlib.figure.Figure at 0x7fd23a4fd5c0>"
      ]
     },
     "metadata": {},
     "output_type": "display_data"
    }
   ],
   "source": [
    "output_dir = \"exo_one/diagrams/\"\n",
    "for col in totals_df.columns[[5, 8, 11]]:\n",
    "    ncount = totals_df[col].sum()\n",
    "    ax = sns.barplot(x=\"Κλάδος\", y=col, data = totals_df)\n",
    "#     ax.set_title(totals_df[col].name + ', ανά έργο', fontsize=22)\n",
    "    for p in ax.patches:\n",
    "        x=p.get_bbox().get_points()[:,0]\n",
    "        y=p.get_bbox().get_points()[1,1]\n",
    "        ax.annotate('{:.1f} χιλ.'.format(y), (x.mean(), y+(0.8/100)*ncount), \n",
    "                ha='center', va='top', fontsize=14)\n",
    "    filename = col\n",
    "    plt.tight_layout()\n",
    "    plt.savefig('{}'.format(output_dir) + filename + \".png\", format='png', bbox_inches='tight')\n",
    "    plt.clf()"
   ]
  },
  {
   "cell_type": "markdown",
   "metadata": {},
   "source": [
    "### Create Stack bar with total budget and public expenditure"
   ]
  },
  {
   "cell_type": "code",
   "execution_count": 43,
   "metadata": {
    "collapsed": true
   },
   "outputs": [],
   "source": [
    "# totals_df[totals_df['Συνολικός Προϋπολογισμός'].index == 0]\n",
    "#totals_df.iloc[0, 1]\n",
    "# totals_df.iloc[0, 12]\n",
    "# totals_df[totals_df.iloc[:,1:2].index==1]\n",
    "# totals_df[['Συνολικός Προϋπολογισμός', 'Κλάδος']]# == 'Εμπόριο']"
   ]
  },
  {
   "cell_type": "code",
   "execution_count": 44,
   "metadata": {},
   "outputs": [
    {
     "data": {
      "image/png": "[encoded data removed]",
      "text/plain": [
       "<matplotlib.figure.Figure at 0x7fd23a4fd828>"
      ]
     },
     "metadata": {},
     "output_type": "display_data"
    }
   ],
   "source": [
    "top_plot = sns.barplot(x='Κλάδος', y=\"Συνολικός Προϋπολογισμός, εκ. ευρώ\", data = totals_df, orient=\"v\", color='#A8B820')\n",
    "#top_plot.set_title('% Δημόσιας Δαπάνης στο σύνολο του Προϋπολογισμού, ανά κλάδο', fontsize=22)\n",
    "\n",
    "bottom_plot = sns.barplot(x = 'Κλάδος', y = 'Δημόσια Δαπάνη Ολοκλήρωσης, εκ. ευρώ', data = totals_df, orient=\"v\", color = \"#6890F0\")\n",
    "bottom_plot.set(xlabel='Κλάδος', ylabel='Δημόσια Δαπάνη και Συνολικός Προϋπολογισμός, %, εκ. ευρω')\n",
    "n=0\n",
    "for p in bottom_plot.patches:\n",
    "    public_spending_perc = totals_df.iloc[n, 12]\n",
    "    total_budget = totals_df.iloc[n, 1]\n",
    "    x=p.get_bbox().get_points()[:,0]\n",
    "    y=p.get_bbox().get_points()[0,1]\n",
    "    bottom_plot.annotate('{:.1f}%'.format(public_spending_perc), (x.mean(), y), \n",
    "            ha='center', va='bottom', fontsize=13)\n",
    "    x=p.get_bbox().get_points()[:,0]\n",
    "    y=p.get_bbox().get_points()[1,1]\n",
    "    top_plot.annotate('{:.1f} εκ.'.format(y), (x.mean(), y+(0.5/100)*ncount), \n",
    "            ha='center', va='top', fontsize=13)\n",
    "    if n>4:\n",
    "        break\n",
    "    n+=1\n",
    "\n",
    "topbar = plt.Rectangle((0,0),1,1,fc='#A8B820', edgecolor = 'none')\n",
    "bottombar = plt.Rectangle((0,0),1,1,fc='#6890F0',  edgecolor = 'none')\n",
    "l = plt.legend([topbar, bottombar], ['Συνολικός Προϋπολογισμός Έργων', 'Δημόσια Δαπάνη Ολοκλήρωσης'], loc=1, ncol = 1, prop={'size':14})\n",
    "l.draw_frame(False)\n",
    "plt.tight_layout()\n",
    "plt.savefig(\"exo_one/diagrams/Ποσοστό Δημόσιας Δαπάνης ανά κλάδο.png\", format='png', bbox_inches='tight')"
   ]
  },
  {
   "cell_type": "code",
   "execution_count": 45,
   "metadata": {
    "collapsed": true
   },
   "outputs": [],
   "source": [
    "# test = sns.barplot(x=\"Κλάδος\", y=\"Συνολικός Προϋπολογισμός\", data = general_sec_totals)\n",
    "# # test.set(ylim=(1, 32000000))\n",
    "# majorFormatter = FormatStrFormatter('%d')\n",
    "# test.yaxis.set_major_formatter(majorFormatter)"
   ]
  },
  {
   "cell_type": "code",
   "execution_count": null,
   "metadata": {
    "collapsed": true
   },
   "outputs": [],
   "source": [
    "# ax = sns.factorplot(y=\"Κλάδος\", x=\"Συνολικός Προϋπολογισμός, εκ. ευρώ\", \n",
    "#                     hue=\"Κλάδος\",\n",
    "#                     data = totals_df,\n",
    "#                 size=10, kind=\"bar\")"
   ]
  },
  {
   "cell_type": "code",
   "execution_count": null,
   "metadata": {
    "collapsed": true,
    "scrolled": false
   },
   "outputs": [],
   "source": [
    "# ax = sns.factorplot(y=\"Κλάδος\", x=\"Συνολικός Προϋπολογισμός\", \n",
    "#                     hue=\"Κλάδος\", dodge=False,\n",
    "#                     data = general_sec_totals,\n",
    "#                 size=10, kind=\"bar\")"
   ]
  },
  {
   "cell_type": "code",
   "execution_count": null,
   "metadata": {
    "collapsed": true
   },
   "outputs": [],
   "source": [
    "# totals_graph = sns.factorplot(x=\"Κλάδος\", y=\"Συνολικός Προϋπολογισμός\", data = general_sec_totals,\n",
    "#                 size=10, kind=\"bar\")"
   ]
  }
 ],
 "metadata": {
  "kernelspec": {
   "display_name": "Python 3",
   "language": "python",
   "name": "python3"
  },
  "language_info": {
   "codemirror_mode": {
    "name": "ipython",
    "version": 3
   },
   "file_extension": ".py",
   "mimetype": "text/x-python",
   "name": "python",
   "nbconvert_exporter": "python",
   "pygments_lexer": "ipython3",
   "version": "3.6.0"
  }
 },
 "nbformat": 4,
 "nbformat_minor": 2
}
